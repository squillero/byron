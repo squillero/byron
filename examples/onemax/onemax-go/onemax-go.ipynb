{
 "cells": [
  {
   "cell_type": "markdown",
   "id": "cf8d4bbc-9fe2-43b8-945d-403e6f91b190",
   "metadata": {},
   "source": [
    "This notebook is part of [**Byron v0.8**](https://pypi.org/project/byron/)  \n",
    "Copyright 2023-24 Giovanni Squillero and Alberto Tonda  \n",
    "SPDX-License-Identifier: [Apache-2.0](https://opensource.org/license/apache-2-0/) "
   ]
  },
  {
   "cell_type": "code",
   "execution_count": 1,
   "id": "3bb17efa-7918-4bfe-a5dd-d4a6bcf08165",
   "metadata": {
    "ExecuteTime": {
     "end_time": "2023-09-08T11:41:14.643728Z",
     "start_time": "2023-09-08T11:41:14.640556Z"
    }
   },
   "source": [
    "from pprint import pprint\n",
    "import logging"
   ],
   "outputs": []
  },
  {
   "cell_type": "markdown",
   "id": "43a1401d-bf66-4725-83cf-5907f9407928",
   "metadata": {},
   "source": [
    "# Onemax in Go"
   ]
  },
  {
   "cell_type": "code",
   "execution_count": 2,
   "id": "52ad6183-c167-4768-b57c-e91244e29584",
   "metadata": {
    "ExecuteTime": {
     "end_time": "2023-09-08T11:41:16.695806Z",
     "start_time": "2023-09-08T11:41:15.464099Z"
    }
   },
   "source": [
    "import byron"
   ],
   "outputs": []
  },
  {
   "cell_type": "code",
   "execution_count": 3,
   "id": "f1cdfbb3ff40b342",
   "metadata": {
    "collapsed": false,
    "ExecuteTime": {
     "end_time": "2023-09-08T11:41:16.700055Z",
     "start_time": "2023-09-08T11:41:16.695402Z"
    }
   },
   "source": [
    "import golang\n",
    "\n",
    "top_frame = golang.framework()"
   ],
   "outputs": []
  },
  {
   "cell_type": "code",
   "execution_count": 4,
   "id": "9bcd4fba-17f6-4297-8d31-ade04880809f",
   "metadata": {
    "ExecuteTime": {
     "end_time": "2023-09-08T11:41:16.734180Z",
     "start_time": "2023-09-08T11:41:16.719562Z"
    }
   },
   "source": [
    "byron.f.as_text(top_frame)"
   ],
   "outputs": []
  },
  {
   "cell_type": "code",
   "execution_count": 5,
   "id": "1d6e68d7-9725-49fb-9890-a48c7b72d5d4",
   "metadata": {
    "ExecuteTime": {
     "end_time": "2023-09-08T11:41:18.486029Z",
     "start_time": "2023-09-08T11:41:17.415315Z"
    }
   },
   "source": [
    "byron.f.as_forest(top_frame)"
   ],
   "outputs": []
  },
  {
   "cell_type": "code",
   "execution_count": 6,
   "id": "da891060-dc8c-4689-a604-4662412b5c9e",
   "metadata": {
    "ExecuteTime": {
     "end_time": "2023-09-08T11:41:20.377625Z",
     "start_time": "2023-09-08T11:41:19.614021Z"
    }
   },
   "source": [
    "byron.f.as_lgp(top_frame)"
   ],
   "outputs": []
  },
  {
   "cell_type": "code",
   "execution_count": null,
   "id": "936c134dc57395a7",
   "metadata": {
    "collapsed": false
   },
   "source": [
    "@byron.fitness_function\n",
    "def dummy_fitness(text):\n",
    "    return 1 / len(text)"
   ],
   "outputs": []
  },
  {
   "cell_type": "code",
   "execution_count": null,
   "id": "70a6fb4c-9caf-4675-9e55-eb8a792aea1a",
   "metadata": {},
   "source": [
    "evaluator = byron.evaluator.PythonEvaluator(dummy_fitness)"
   ],
   "outputs": []
  },
  {
   "cell_type": "code",
   "execution_count": null,
   "id": "b5294736a8ac382a",
   "metadata": {
    "collapsed": false
   },
   "source": [
    "byron.ea.vanilla_ea(\n",
    "        top_frame, evaluator, max_generation=1, mu=50, lambda_=20, max_fitness=64.0\n",
    "    )"
   ],
   "outputs": []
  },
  {
   "cell_type": "code",
   "execution_count": null,
   "id": "101801adf0d0415b",
   "metadata": {
    "collapsed": false
   },
   "source": [
    "foo = {0: (1, 2, 3),\n",
    "       1: (1, 2, 3, 4),\n",
    "       2: (1, 5, 7)}"
   ],
   "outputs": []
  },
  {
   "cell_type": "code",
   "execution_count": null,
   "id": "ffd6a628-0920-470e-b138-519cbbc6b135",
   "metadata": {},
   "source": [
    "list(n for n, _ in filter(lambda i: i[1][-1] == 3, foo.items()))"
   ],
   "outputs": []
  },
  {
   "cell_type": "code",
   "execution_count": null,
   "id": "f5997d36-81f2-48ac-bd36-cc9b0d16945c",
   "metadata": {},
   "source": [],
   "outputs": []
  }
 ],
 "metadata": {
  "kernelspec": {
   "display_name": "Python 3 (ipykernel)",
   "language": "python",
   "name": "python3"
  },
  "language_info": {
   "codemirror_mode": {
    "name": "ipython",
    "version": 3
   },
   "file_extension": ".py",
   "mimetype": "text/x-python",
   "name": "python",
   "nbconvert_exporter": "python",
   "pygments_lexer": "ipython3",
   "version": "3.11.5"
  }
 },
 "nbformat": 4,
 "nbformat_minor": 5
}
