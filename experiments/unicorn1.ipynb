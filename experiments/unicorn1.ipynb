{
 "cells": [
  {
   "metadata": {},
   "cell_type": "markdown",
   "source": [
    "This notebook is part of [**Byron v0.8**](https://pypi.org/project/byron/)  \n",
    "Copyright 2023-24 Giovanni Squillero and Alberto Tonda  \n",
    "SPDX-License-Identifier: [Apache-2.0](https://opensource.org/license/apache-2-0/)  "
   ],
   "id": "6b8e87613d0ed46a"
  },
  {
   "metadata": {
    "ExecuteTime": {
     "end_time": "2024-05-16T10:29:31.120249Z",
     "start_time": "2024-05-16T10:29:30.339211Z"
    }
   },
   "cell_type": "code",
   "source": "import byron",
   "id": "618b3eac870b8a95",
   "execution_count": 1,
   "outputs": []
  },
  {
   "metadata": {
    "ExecuteTime": {
     "end_time": "2024-05-16T10:31:08.244486Z",
     "start_time": "2024-05-16T10:31:08.241587Z"
    }
   },
   "cell_type": "code",
   "source": [
    "from unicorn import *\n",
    "from unicorn.x86_const import *"
   ],
   "id": "221b47e9b3104fa7",
   "execution_count": 4,
   "outputs": []
  },
  {
   "metadata": {
    "ExecuteTime": {
     "end_time": "2024-05-16T10:31:28.810922Z",
     "start_time": "2024-05-16T10:31:28.806782Z"
    }
   },
   "cell_type": "code",
   "source": [
    "# code to be emulated\n",
    "X86_CODE32 = b\"\\x41\\x4a\" # INC ecx; DEC edx\n",
    "\n",
    "# memory address where emulation starts\n",
    "ADDRESS = 0x1000000\n",
    "\n",
    "print(\"Emulate i386 code\")\n",
    "\n",
    "# Initialize emulator in X86-32bit mode\n",
    "mu = Uc(UC_ARCH_X86, UC_MODE_32)\n",
    "\n",
    "# map 2MB memory for this emulation\n",
    "mu.mem_map(ADDRESS, 2 * 1024 * 1024)\n",
    "\n",
    "# write machine code to be emulated to memory\n",
    "mu.mem_write(ADDRESS, X86_CODE32)\n",
    "\n",
    "# initialize machine registers\n",
    "mu.reg_write(UC_X86_REG_ECX, 0x1234)\n",
    "mu.reg_write(UC_X86_REG_EDX, 0x7890)\n",
    "\n",
    "# emulate code in infinite time & unlimited instructions\n",
    "mu.emu_start(ADDRESS, ADDRESS + len(X86_CODE32))\n",
    "\n",
    "# now print out some registers\n",
    "print(\"Emulation done. Below is the CPU context\")\n",
    "\n",
    "r_ecx = mu.reg_read(UC_X86_REG_ECX)\n",
    "r_edx = mu.reg_read(UC_X86_REG_EDX)\n",
    "print(\">>> ECX = 0x%x\" %r_ecx)\n",
    "print(\">>> EDX = 0x%x\" %r_edx)"
   ],
   "id": "83cfb4de81ba6457",
   "execution_count": 5,
   "outputs": []
  },
  {
   "metadata": {},
   "cell_type": "code",
   "execution_count": null,
   "source": "mu.",
   "id": "18001d74c77ee2e9",
   "outputs": []
  }
 ],
 "metadata": {
  "kernelspec": {
   "display_name": "Python 3",
   "language": "python",
   "name": "python3"
  },
  "language_info": {
   "codemirror_mode": {
    "name": "ipython",
    "version": 2
   },
   "file_extension": ".py",
   "mimetype": "text/x-python",
   "name": "python",
   "nbconvert_exporter": "python",
   "pygments_lexer": "ipython2",
   "version": "2.7.6"
  }
 },
 "nbformat": 4,
 "nbformat_minor": 5
}
