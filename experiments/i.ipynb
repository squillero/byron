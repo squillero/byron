{
 "cells": [
  {
   "cell_type": "markdown",
   "metadata": {},
   "source": [
    "This notebook is part of [**Byron v0.8**](https://pypi.org/project/byron/)  \n",
    "Copyright 2023-24 Giovanni Squillero and Alberto Tonda  \n",
    "SPDX-License-Identifier: [Apache-2.0](https://opensource.org/license/apache-2-0/)  "
   ]
  },
  {
   "cell_type": "code",
   "metadata": {
    "ExecuteTime": {
     "end_time": "2024-05-17T15:18:29.312298Z",
     "start_time": "2024-05-17T15:18:28.912110Z"
    }
   },
   "source": [
    "import byron"
   ],
   "outputs": [
    {
     "name": "stderr",
     "output_type": "stream",
     "text": [
      "/var/folders/g4/jsfj0k8x6rj21bygpnmzqb940000gn/T/ipykernel_37368/1429530752.py:1: ByronPerformanceWarning: \n",
      "  Paranoia checks are enabled in this notebook: performances can be significantly impaired\n",
      "  [see https://cad-polito-it.github.io/byron/paranoia for details]\n",
      "  import byron\n"
     ]
    }
   ],
   "execution_count": 1
  },
  {
   "metadata": {
    "ExecuteTime": {
     "end_time": "2024-05-17T15:19:03.808092Z",
     "start_time": "2024-05-17T15:19:03.805878Z"
    }
   },
   "cell_type": "code",
   "source": [
    "def get_base_macros():\n",
    "    macros = list()\n",
    "    macros.append(byron.f.macro('int 0x{num:X}', num=byron.f.integer_parameter(0, 2**32)))\n",
    "    macros.append(byron.f.macro('float 0x{num:X}', num=byron.f.float_parameter(-1, 1)))\n",
    "    macros.append(byron.f.macro('array 0x{num:X}', num=byron.f.array_parameter('01-', 64)))\n",
    "    macros.append(byron.f.macro('choice 0x{num:X}', num=byron.f.choice_parameter('ABCDEFG')))\n",
    "    return macros"
   ],
   "outputs": [],
   "execution_count": 3
  },
  {
   "cell_type": "code",
   "metadata": {
    "ExecuteTime": {
     "end_time": "2024-05-17T15:19:54.672787Z",
     "start_time": "2024-05-17T15:19:54.641334Z"
    }
   },
   "source": [
    "SIZE = 100\n",
    "bar1 = byron.f.macro('bar {ref}', ref=byron.f.global_reference('bunch1'))\n",
    "bar2 = byron.f.macro('bar {ref}', ref=byron.f.global_reference('bunch2'))\n",
    "bunch1 = byron.f.bunch(get_base_macros() + [bar2], size=(round(SIZE * 0.8), round(SIZE * 1.2)), name='bunch1')\n",
    "bunch2 = byron.f.bunch(get_base_macros() + [bar1], size=(round(SIZE * 0.8), round(SIZE * 1.2)), name='bunch2')"
   ],
   "outputs": [
    {
     "ename": "AssertionError",
     "evalue": "ValueError (paranoia check): Can't add Frame❰bunch1❱",
     "output_type": "error",
     "traceback": [
      "\u001B[0;31m---------------------------------------------------------------------------\u001B[0m",
      "\u001B[0;31mAssertionError\u001B[0m                            Traceback (most recent call last)",
      "Cell \u001B[0;32mIn[6], line 4\u001B[0m\n\u001B[1;32m      2\u001B[0m bar1 \u001B[38;5;241m=\u001B[39m byron\u001B[38;5;241m.\u001B[39mf\u001B[38;5;241m.\u001B[39mmacro(\u001B[38;5;124m'\u001B[39m\u001B[38;5;124mbar \u001B[39m\u001B[38;5;132;01m{ref}\u001B[39;00m\u001B[38;5;124m'\u001B[39m, ref\u001B[38;5;241m=\u001B[39mbyron\u001B[38;5;241m.\u001B[39mf\u001B[38;5;241m.\u001B[39mglobal_reference(\u001B[38;5;124m'\u001B[39m\u001B[38;5;124mbunch1\u001B[39m\u001B[38;5;124m'\u001B[39m))\n\u001B[1;32m      3\u001B[0m bar2 \u001B[38;5;241m=\u001B[39m byron\u001B[38;5;241m.\u001B[39mf\u001B[38;5;241m.\u001B[39mmacro(\u001B[38;5;124m'\u001B[39m\u001B[38;5;124mbar \u001B[39m\u001B[38;5;132;01m{ref}\u001B[39;00m\u001B[38;5;124m'\u001B[39m, ref\u001B[38;5;241m=\u001B[39mbyron\u001B[38;5;241m.\u001B[39mf\u001B[38;5;241m.\u001B[39mglobal_reference(\u001B[38;5;124m'\u001B[39m\u001B[38;5;124mbunch2\u001B[39m\u001B[38;5;124m'\u001B[39m))\n\u001B[0;32m----> 4\u001B[0m bunch1 \u001B[38;5;241m=\u001B[39m \u001B[43mbyron\u001B[49m\u001B[38;5;241;43m.\u001B[39;49m\u001B[43mf\u001B[49m\u001B[38;5;241;43m.\u001B[39;49m\u001B[43mbunch\u001B[49m\u001B[43m(\u001B[49m\u001B[43mget_base_macros\u001B[49m\u001B[43m(\u001B[49m\u001B[43m)\u001B[49m\u001B[43m \u001B[49m\u001B[38;5;241;43m+\u001B[39;49m\u001B[43m \u001B[49m\u001B[43m[\u001B[49m\u001B[43mbar2\u001B[49m\u001B[43m]\u001B[49m\u001B[43m,\u001B[49m\u001B[43m \u001B[49m\u001B[43msize\u001B[49m\u001B[38;5;241;43m=\u001B[39;49m\u001B[43m(\u001B[49m\u001B[38;5;28;43mround\u001B[39;49m\u001B[43m(\u001B[49m\u001B[43mSIZE\u001B[49m\u001B[43m \u001B[49m\u001B[38;5;241;43m*\u001B[39;49m\u001B[43m \u001B[49m\u001B[38;5;241;43m0.8\u001B[39;49m\u001B[43m)\u001B[49m\u001B[43m,\u001B[49m\u001B[43m \u001B[49m\u001B[38;5;28;43mround\u001B[39;49m\u001B[43m(\u001B[49m\u001B[43mSIZE\u001B[49m\u001B[43m \u001B[49m\u001B[38;5;241;43m*\u001B[39;49m\u001B[43m \u001B[49m\u001B[38;5;241;43m1.2\u001B[39;49m\u001B[43m)\u001B[49m\u001B[43m)\u001B[49m\u001B[43m,\u001B[49m\u001B[43m \u001B[49m\u001B[43mname\u001B[49m\u001B[38;5;241;43m=\u001B[39;49m\u001B[38;5;124;43m'\u001B[39;49m\u001B[38;5;124;43mbunch1\u001B[39;49m\u001B[38;5;124;43m'\u001B[39;49m\u001B[43m)\u001B[49m\n\u001B[1;32m      5\u001B[0m bunch2 \u001B[38;5;241m=\u001B[39m byron\u001B[38;5;241m.\u001B[39mf\u001B[38;5;241m.\u001B[39mbunch(get_base_macros() \u001B[38;5;241m+\u001B[39m [bar1], size\u001B[38;5;241m=\u001B[39m(\u001B[38;5;28mround\u001B[39m(SIZE \u001B[38;5;241m*\u001B[39m \u001B[38;5;241m0.8\u001B[39m), \u001B[38;5;28mround\u001B[39m(SIZE \u001B[38;5;241m*\u001B[39m \u001B[38;5;241m1.2\u001B[39m)), name\u001B[38;5;241m=\u001B[39m\u001B[38;5;124m'\u001B[39m\u001B[38;5;124mbunch2\u001B[39m\u001B[38;5;124m'\u001B[39m)\n",
      "File \u001B[0;32m~/Repos/byron/byron/framework/framework.py:249\u001B[0m, in \u001B[0;36mbunch\u001B[0;34m(pool, size, name, max_instances, weights, extra_parameters, **kwargs)\u001B[0m\n\u001B[1;32m    246\u001B[0m \u001B[38;5;28;01melse\u001B[39;00m:\n\u001B[1;32m    247\u001B[0m     T\u001B[38;5;241m.\u001B[39m_patch_info(name\u001B[38;5;241m=\u001B[39m\u001B[38;5;124m'\u001B[39m\u001B[38;5;124mMacroBunch#\u001B[39m\u001B[38;5;124m'\u001B[39m)\n\u001B[0;32m--> 249\u001B[0m \u001B[38;5;28;01massert\u001B[39;00m T \u001B[38;5;129;01mnot\u001B[39;00m \u001B[38;5;129;01min\u001B[39;00m SE_DIRECTORY, \u001B[38;5;124mf\u001B[39m\u001B[38;5;124m\"\u001B[39m\u001B[38;5;124mValueError (paranoia check): Can\u001B[39m\u001B[38;5;124m'\u001B[39m\u001B[38;5;124mt add \u001B[39m\u001B[38;5;132;01m{\u001B[39;00mT\u001B[38;5;132;01m}\u001B[39;00m\u001B[38;5;124m\"\u001B[39m\n\u001B[1;32m    250\u001B[0m SE_DIRECTORY\u001B[38;5;241m.\u001B[39madd(T)\n\u001B[1;32m    251\u001B[0m \u001B[38;5;28;01mreturn\u001B[39;00m T\n",
      "\u001B[0;31mAssertionError\u001B[0m: ValueError (paranoia check): Can't add Frame❰bunch1❱"
     ]
    }
   ],
   "execution_count": 6
  },
  {
   "metadata": {},
   "cell_type": "code",
   "outputs": [],
   "execution_count": null,
   "source": ""
  }
 ],
 "metadata": {
  "kernelspec": {
   "display_name": "Python 3 (ipykernel)",
   "language": "python",
   "name": "python3"
  },
  "language_info": {
   "codemirror_mode": {
    "name": "ipython",
    "version": 3
   },
   "file_extension": ".py",
   "mimetype": "text/x-python",
   "name": "python",
   "nbconvert_exporter": "python",
   "pygments_lexer": "ipython3",
   "version": "3.11.4"
  }
 },
 "nbformat": 4,
 "nbformat_minor": 4
}
