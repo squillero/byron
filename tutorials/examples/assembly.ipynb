{
 "cells": [
  {
   "metadata": {},
   "cell_type": "markdown",
   "source": [
    "This notebook is part of [**Byron v0.8**](https://pypi.org/project/byron/)  \n",
    "Copyright 2023-24 Giovanni Squillero and Alberto Tonda  \n",
    "SPDX-License-Identifier: [Apache-2.0](https://www.apache.org/licenses/LICENSE-2.0) "
   ],
   "id": "74cda282a22797c3"
  },
  {
   "metadata": {
    "ExecuteTime": {
     "end_time": "2024-08-12T08:46:08.952498Z",
     "start_time": "2024-08-12T08:46:08.528800Z"
    }
   },
   "cell_type": "code",
   "source": "import byron",
   "id": "d8bfac06989ce0db",
   "outputs": [
    {
     "name": "stderr",
     "output_type": "stream",
     "text": [
      "/var/folders/31/dkl97hks2c14b663vl55pt440000gn/T/ipykernel_3752/1429530752.py:1: ByronPerformanceWarning: \n",
      "  Paranoia checks are enabled in this notebook: performances can be significantly impaired\n",
      "  [see https://cad-polito-it.github.io/byron/paranoia for details]\n",
      "  import byron\n"
     ]
    }
   ],
   "execution_count": 1
  },
  {
   "metadata": {},
   "cell_type": "markdown",
   "source": [
    "# Assembly Tutorial\n",
    "\n",
    "Oversimplified assembler vaguely based on x86 assembly "
   ],
   "id": "bd14161235c31157"
  },
  {
   "metadata": {},
   "cell_type": "markdown",
   "source": "### Operands: Registers and Immediate ",
   "id": "ebbb59591f5cc552"
  },
  {
   "metadata": {
    "ExecuteTime": {
     "end_time": "2024-08-12T08:46:08.955841Z",
     "start_time": "2024-08-12T08:46:08.953529Z"
    }
   },
   "cell_type": "code",
   "source": [
    "reg8 = byron.f.choice_parameter(['ah', 'bh', 'ch', 'dh', 'al', 'bl', 'cl', 'dl'])\n",
    "reg16 = byron.f.choice_parameter(['ax', 'bx', 'cx', 'dx'])\n",
    "int8 = byron.f.integer_parameter(0, 2 ** 8)\n",
    "int16 = byron.f.integer_parameter(0, 2 ** 16)"
   ],
   "id": "fe0843e40726b0f7",
   "outputs": [],
   "execution_count": 2
  },
  {
   "metadata": {},
   "cell_type": "markdown",
   "source": [
    "### Operands: Registers and Immediate\n",
    "\n",
    "See https://docs.python.org/3/library/string.html#formatspec for the format specification"
   ],
   "id": "4956f9b1f258405b"
  },
  {
   "metadata": {
    "ExecuteTime": {
     "end_time": "2024-08-12T08:46:08.959077Z",
     "start_time": "2024-08-12T08:46:08.956476Z"
    }
   },
   "cell_type": "code",
   "source": [
    "opcodes2 = byron.f.choice_parameter(['mov', 'add', 'sub', 'or', 'and'])\n",
    "opcodes1 = byron.f.choice_parameter(['not', 'neg', 'inc', 'dec'])\n",
    "opcodes0 = byron.f.choice_parameter(['nop', 'hlt'])\n",
    "\n",
    "inst8rr = byron.f.macro(\"{op} {r1}, {r2}\", op=opcodes2, r1=reg8, r2=reg8)\n",
    "inst8ri = byron.f.macro(\"{op} {r}, {i:#x}\", op=opcodes2, r=reg8, i=int8)\n",
    "inst8r = byron.f.macro(\"{op} {r}\", op=opcodes1, r=reg8)\n",
    "\n",
    "inst16rr = byron.f.macro(\"{op} {r1}, {r2}\", op=opcodes2, r1=reg16, r2=reg16)\n",
    "inst16ri = byron.f.macro(\"{op} {r}, {i:#x}\", op=opcodes2, r=reg16, i=int16)\n",
    "inst16r = byron.f.macro(\"{op} {r}\", op=opcodes1, r=reg16)"
   ],
   "id": "27cb1b6046cbc06",
   "outputs": [],
   "execution_count": 3
  },
  {
   "metadata": {},
   "cell_type": "markdown",
   "source": "### A simple fragment of code",
   "id": "462a8b49b9fbdb0"
  },
  {
   "metadata": {
    "ExecuteTime": {
     "end_time": "2024-08-12T08:46:08.963721Z",
     "start_time": "2024-08-12T08:46:08.959900Z"
    }
   },
   "cell_type": "code",
   "source": [
    "prog = byron.f.bunch([inst16rr, inst16ri, inst16r, inst8rr, inst8ri, inst8r], 5)\n",
    "byron.f.as_text(prog)\n"
   ],
   "id": "72285d44dd62df1",
   "outputs": [
    {
     "name": "stdout",
     "output_type": "stream",
     "text": [
      "; 🖋 n1 ➜ Frame❬MacroArray#1❭\n",
      "and ax, ax  ; 🖋 n1.n2 ➜ Macro❬User#4❭\n",
      "not ah  ; 🖋 n1.n3 ➜ Macro❬User#3❭\n",
      "dec ax  ; 🖋 n1.n4 ➜ Macro❬User#6❭\n",
      "and ax, 0x6ff1  ; 🖋 n1.n5 ➜ Macro❬User#5❭\n",
      "sub dx, 0x65ce  ; 🖋 n1.n6 ➜ Macro❬User#5❭\n",
      "\n"
     ]
    }
   ],
   "execution_count": 4
  },
  {
   "metadata": {},
   "cell_type": "markdown",
   "source": "### Let's add subroutines",
   "id": "37ba03c9bd58a974"
  },
  {
   "metadata": {
    "ExecuteTime": {
     "end_time": "2024-08-12T08:46:08.967121Z",
     "start_time": "2024-08-12T08:46:08.965052Z"
    }
   },
   "cell_type": "code",
   "source": [
    "sub_entry = byron.f.macro(\"\\nproc {_node} near\", _label='')\n",
    "sub_exit = byron.f.macro(\"ret\")\n",
    "sub_body = byron.f.bunch([inst16rr, inst16ri, inst16r, inst8rr, inst8ri, inst8r], 3)\n",
    "sub = byron.f.sequence([sub_entry, sub_body, sub_exit])\n",
    "\n",
    "call = byron.f.macro(\"call {proc}\", proc=byron.f.global_reference(sub, first_macro=True, creative_zeal=1))"
   ],
   "id": "3955338106d19278",
   "outputs": [],
   "execution_count": 5
  },
  {
   "metadata": {},
   "cell_type": "markdown",
   "source": "Let's create a full program with header, initialization, and main body. Let \"calls\" be more frequent than the other instructions (62.5% of macros in `main_body` will be `call`). ",
   "id": "17569fd8d4b9a3e3"
  },
  {
   "metadata": {
    "ExecuteTime": {
     "end_time": "2024-08-12T08:46:08.970121Z",
     "start_time": "2024-08-12T08:46:08.967765Z"
    }
   },
   "cell_type": "code",
   "source": [
    "main_prologue = \"\"\"section .text\n",
    "\n",
    "global _start\n",
    "_start:\n",
    "\"\"\"\n",
    "\n",
    "main_body = byron.f.bunch([inst16rr, inst16ri, inst16r, inst8rr, inst8ri, inst8r, call],\n",
    "                          size=50,\n",
    "                          weights=[1, 1, 1, 1, 1, 1, 10])\n",
    "init = byron.f.macro(\"mov ax, {v:#x}\\nmov bx, {v:#x}\\nmov cx, {v:#x}\\nmov dx, {v:#x}\", v=int16)\n",
    "\n",
    "full_prog = byron.f.sequence([main_prologue, init, main_body])"
   ],
   "id": "be4ef5f67c9b41c",
   "outputs": [],
   "execution_count": 6
  },
  {
   "metadata": {
    "ExecuteTime": {
     "end_time": "2024-08-12T08:46:09.013229Z",
     "start_time": "2024-08-12T08:46:08.970667Z"
    }
   },
   "cell_type": "code",
   "source": "byron.f.as_text(full_prog)",
   "id": "525181ab66cf96e0",
   "outputs": [
    {
     "name": "stdout",
     "output_type": "stream",
     "text": [
      "; 🖋 n7 ➜ Frame❬FrameSequence#2❭\n",
      "section .text\n",
      "\n",
      "global _start\n",
      "_start:\n",
      "  ; 🖋 n7.n8 ➜ Macro❬Text#3❭\n",
      "mov ax, 0x8e52\n",
      "mov bx, 0x8e52\n",
      "mov cx, 0x8e52\n",
      "mov dx, 0x8e52  ; 🖋 n7.n9 ➜ Macro❬User#8❭\n",
      "; 🖋 n7.n10 ➜ Frame❬MacroArray#3❭\n",
      "or cx, bx  ; 🖋 n7.n10.n11 ➜ Macro❬User#4❭\n",
      "call n62  ; 🖋 n7.n10.n12 ➜ Macro❬User#7❭\n",
      "call n62  ; 🖋 n7.n10.n13 ➜ Macro❬User#7❭\n",
      "call n69  ; 🖋 n7.n10.n14 ➜ Macro❬User#7❭\n",
      "mov bh, 0x49  ; 🖋 n7.n10.n15 ➜ Macro❬User#2❭\n",
      "and ch, dh  ; 🖋 n7.n10.n16 ➜ Macro❬User#1❭\n",
      "not cx  ; 🖋 n7.n10.n17 ➜ Macro❬User#6❭\n",
      "call n62  ; 🖋 n7.n10.n18 ➜ Macro❬User#7❭\n",
      "sub dx, 0x46d3  ; 🖋 n7.n10.n19 ➜ Macro❬User#5❭\n",
      "add ax, ax  ; 🖋 n7.n10.n20 ➜ Macro❬User#4❭\n",
      "inc bx  ; 🖋 n7.n10.n21 ➜ Macro❬User#6❭\n",
      "call n76  ; 🖋 n7.n10.n22 ➜ Macro❬User#7❭\n",
      "call n76  ; 🖋 n7.n10.n23 ➜ Macro❬User#7❭\n",
      "or bx, dx  ; 🖋 n7.n10.n24 ➜ Macro❬User#4❭\n",
      "call n62  ; 🖋 n7.n10.n25 ➜ Macro❬User#7❭\n",
      "call n76  ; 🖋 n7.n10.n26 ➜ Macro❬User#7❭\n",
      "call n69  ; 🖋 n7.n10.n27 ➜ Macro❬User#7❭\n",
      "call n62  ; 🖋 n7.n10.n28 ➜ Macro❬User#7❭\n",
      "call n76  ; 🖋 n7.n10.n29 ➜ Macro❬User#7❭\n",
      "sub bx, bx  ; 🖋 n7.n10.n30 ➜ Macro❬User#4❭\n",
      "neg bh  ; 🖋 n7.n10.n31 ➜ Macro❬User#3❭\n",
      "call n62  ; 🖋 n7.n10.n32 ➜ Macro❬User#7❭\n",
      "call n76  ; 🖋 n7.n10.n33 ➜ Macro❬User#7❭\n",
      "call n83  ; 🖋 n7.n10.n34 ➜ Macro❬User#7❭\n",
      "or bh, 0x41  ; 🖋 n7.n10.n35 ➜ Macro❬User#2❭\n",
      "call n76  ; 🖋 n7.n10.n36 ➜ Macro❬User#7❭\n",
      "call n90  ; 🖋 n7.n10.n37 ➜ Macro❬User#7❭\n",
      "add cl, ah  ; 🖋 n7.n10.n38 ➜ Macro❬User#1❭\n",
      "inc bx  ; 🖋 n7.n10.n39 ➜ Macro❬User#6❭\n",
      "call n62  ; 🖋 n7.n10.n40 ➜ Macro❬User#7❭\n",
      "add ah, bl  ; 🖋 n7.n10.n41 ➜ Macro❬User#1❭\n",
      "call n62  ; 🖋 n7.n10.n42 ➜ Macro❬User#7❭\n",
      "call n62  ; 🖋 n7.n10.n43 ➜ Macro❬User#7❭\n",
      "call n76  ; 🖋 n7.n10.n44 ➜ Macro❬User#7❭\n",
      "sub bx, 0x2447  ; 🖋 n7.n10.n45 ➜ Macro❬User#5❭\n",
      "call n76  ; 🖋 n7.n10.n46 ➜ Macro❬User#7❭\n",
      "or bl, bh  ; 🖋 n7.n10.n47 ➜ Macro❬User#1❭\n",
      "call n97  ; 🖋 n7.n10.n48 ➜ Macro❬User#7❭\n",
      "dec dx  ; 🖋 n7.n10.n49 ➜ Macro❬User#6❭\n",
      "call n97  ; 🖋 n7.n10.n50 ➜ Macro❬User#7❭\n",
      "call n76  ; 🖋 n7.n10.n51 ➜ Macro❬User#7❭\n",
      "call n104  ; 🖋 n7.n10.n52 ➜ Macro❬User#7❭\n",
      "dec ax  ; 🖋 n7.n10.n53 ➜ Macro❬User#6❭\n",
      "and bx, 0x2fc0  ; 🖋 n7.n10.n54 ➜ Macro❬User#5❭\n",
      "call n104  ; 🖋 n7.n10.n55 ➜ Macro❬User#7❭\n",
      "call n111  ; 🖋 n7.n10.n56 ➜ Macro❬User#7❭\n",
      "inc cx  ; 🖋 n7.n10.n57 ➜ Macro❬User#6❭\n",
      "call n83  ; 🖋 n7.n10.n58 ➜ Macro❬User#7❭\n",
      "add ah, cl  ; 🖋 n7.n10.n59 ➜ Macro❬User#1❭\n",
      "call n62  ; 🖋 n7.n10.n60 ➜ Macro❬User#7❭\n",
      "; 🖋 n61 ➜ Frame❬FrameSequence#1❭\n",
      "\n",
      "proc n62 near  ; 🖋 n61.n62 ➜ Macro❬Text#1❭\n",
      "; 🖋 n61.n63 ➜ Frame❬MacroArray#2❭\n",
      "sub bx, 0x248e  ; 🖋 n61.n63.n64 ➜ Macro❬User#5❭\n",
      "inc bh  ; 🖋 n61.n63.n65 ➜ Macro❬User#3❭\n",
      "not dx  ; 🖋 n61.n63.n66 ➜ Macro❬User#6❭\n",
      "ret  ; 🖋 n61.n67 ➜ Macro❬Text#2❭\n",
      "; 🖋 n68 ➜ Frame❬FrameSequence#1❭\n",
      "\n",
      "proc n69 near  ; 🖋 n68.n69 ➜ Macro❬Text#1❭\n",
      "; 🖋 n68.n70 ➜ Frame❬MacroArray#2❭\n",
      "mov ax, 0xcd65  ; 🖋 n68.n70.n71 ➜ Macro❬User#5❭\n",
      "and cx, bx  ; 🖋 n68.n70.n72 ➜ Macro❬User#4❭\n",
      "not dx  ; 🖋 n68.n70.n73 ➜ Macro❬User#6❭\n",
      "ret  ; 🖋 n68.n74 ➜ Macro❬Text#2❭\n",
      "; 🖋 n75 ➜ Frame❬FrameSequence#1❭\n",
      "\n",
      "proc n76 near  ; 🖋 n75.n76 ➜ Macro❬Text#1❭\n",
      "; 🖋 n75.n77 ➜ Frame❬MacroArray#2❭\n",
      "sub dl, 0xc3  ; 🖋 n75.n77.n78 ➜ Macro❬User#2❭\n",
      "sub cx, ax  ; 🖋 n75.n77.n79 ➜ Macro❬User#4❭\n",
      "add ch, cl  ; 🖋 n75.n77.n80 ➜ Macro❬User#1❭\n",
      "ret  ; 🖋 n75.n81 ➜ Macro❬Text#2❭\n",
      "; 🖋 n82 ➜ Frame❬FrameSequence#1❭\n",
      "\n",
      "proc n83 near  ; 🖋 n82.n83 ➜ Macro❬Text#1❭\n",
      "; 🖋 n82.n84 ➜ Frame❬MacroArray#2❭\n",
      "and ax, bx  ; 🖋 n82.n84.n85 ➜ Macro❬User#4❭\n",
      "dec ax  ; 🖋 n82.n84.n86 ➜ Macro❬User#6❭\n",
      "not ax  ; 🖋 n82.n84.n87 ➜ Macro❬User#6❭\n",
      "ret  ; 🖋 n82.n88 ➜ Macro❬Text#2❭\n",
      "; 🖋 n89 ➜ Frame❬FrameSequence#1❭\n",
      "\n",
      "proc n90 near  ; 🖋 n89.n90 ➜ Macro❬Text#1❭\n",
      "; 🖋 n89.n91 ➜ Frame❬MacroArray#2❭\n",
      "mov dx, 0x66fd  ; 🖋 n89.n91.n92 ➜ Macro❬User#5❭\n",
      "or dl, 0xbf  ; 🖋 n89.n91.n93 ➜ Macro❬User#2❭\n",
      "dec bl  ; 🖋 n89.n91.n94 ➜ Macro❬User#3❭\n",
      "ret  ; 🖋 n89.n95 ➜ Macro❬Text#2❭\n",
      "; 🖋 n96 ➜ Frame❬FrameSequence#1❭\n",
      "\n",
      "proc n97 near  ; 🖋 n96.n97 ➜ Macro❬Text#1❭\n",
      "; 🖋 n96.n98 ➜ Frame❬MacroArray#2❭\n",
      "add ax, 0x617d  ; 🖋 n96.n98.n99 ➜ Macro❬User#5❭\n",
      "or cl, dh  ; 🖋 n96.n98.n100 ➜ Macro❬User#1❭\n",
      "or dl, ah  ; 🖋 n96.n98.n101 ➜ Macro❬User#1❭\n",
      "ret  ; 🖋 n96.n102 ➜ Macro❬Text#2❭\n",
      "; 🖋 n103 ➜ Frame❬FrameSequence#1❭\n",
      "\n",
      "proc n104 near  ; 🖋 n103.n104 ➜ Macro❬Text#1❭\n",
      "; 🖋 n103.n105 ➜ Frame❬MacroArray#2❭\n",
      "and dx, 0xe5b0  ; 🖋 n103.n105.n106 ➜ Macro❬User#5❭\n",
      "mov dx, 0x5df2  ; 🖋 n103.n105.n107 ➜ Macro❬User#5❭\n",
      "add dx, 0x7fe6  ; 🖋 n103.n105.n108 ➜ Macro❬User#5❭\n",
      "ret  ; 🖋 n103.n109 ➜ Macro❬Text#2❭\n",
      "; 🖋 n110 ➜ Frame❬FrameSequence#1❭\n",
      "\n",
      "proc n111 near  ; 🖋 n110.n111 ➜ Macro❬Text#1❭\n",
      "; 🖋 n110.n112 ➜ Frame❬MacroArray#2❭\n",
      "or ax, 0x544b  ; 🖋 n110.n112.n113 ➜ Macro❬User#5❭\n",
      "or ch, dl  ; 🖋 n110.n112.n114 ➜ Macro❬User#1❭\n",
      "mov dx, dx  ; 🖋 n110.n112.n115 ➜ Macro❬User#4❭\n",
      "ret  ; 🖋 n110.n116 ➜ Macro❬Text#2❭\n",
      "\n"
     ]
    }
   ],
   "execution_count": 7
  },
  {
   "metadata": {
    "ExecuteTime": {
     "end_time": "2024-08-12T08:46:09.015219Z",
     "start_time": "2024-08-12T08:46:09.013821Z"
    }
   },
   "cell_type": "code",
   "source": "",
   "id": "9dc6fb25472d4472",
   "outputs": [],
   "execution_count": 7
  }
 ],
 "metadata": {
  "kernelspec": {
   "display_name": "Python 3",
   "language": "python",
   "name": "python3"
  },
  "language_info": {
   "codemirror_mode": {
    "name": "ipython",
    "version": 2
   },
   "file_extension": ".py",
   "mimetype": "text/x-python",
   "name": "python",
   "nbconvert_exporter": "python",
   "pygments_lexer": "ipython2",
   "version": "2.7.6"
  }
 },
 "nbformat": 4,
 "nbformat_minor": 5
}
