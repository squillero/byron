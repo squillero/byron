{
 "cells": [
  {
   "cell_type": "markdown",
   "id": "257e30e7-d722-4672-9ac9-8fe769cfcf2b",
   "metadata": {},
   "source": [
    "This notebook is part of [**Byron v0.8**](https://pypi.org/project/byron/)  \n",
    "Copyright 2023-24 Giovanni Squillero and Alberto Tonda  \n",
    "SPDX-License-Identifier: [Apache-2.0](https://opensource.org/license/apache-2-0/) "
   ]
  },
  {
   "cell_type": "code",
   "execution_count": 1,
   "id": "a011ff81-bfd5-48be-a8f4-df8051ffbb6e",
   "metadata": {
    "ExecuteTime": {
     "end_time": "2023-09-08T12:45:18.784444Z",
     "start_time": "2023-09-08T12:45:17.906700Z"
    }
   },
   "source": [
    "import byron"
   ],
   "outputs": []
  },
  {
   "cell_type": "markdown",
   "id": "8bffc227-b4ac-4b12-9fe5-9a0144fa5d7f",
   "metadata": {},
   "source": [
    "Everything for the definition of the constraints (the old \"instruction library\") is under the namespace `byron.framework` (lazy fingers can use `byron.f`)"
   ]
  },
  {
   "cell_type": "markdown",
   "id": "60fc521d-2f5f-4e2e-9491-8da812aa8f97",
   "metadata": {},
   "source": [
    "# Local References"
   ]
  },
  {
   "cell_type": "code",
   "execution_count": 2,
   "id": "a5289f40-46d8-4e67-a785-49d06be6847c",
   "metadata": {
    "ExecuteTime": {
     "end_time": "2023-09-08T12:45:18.790977Z",
     "start_time": "2023-09-08T12:45:18.781363Z"
    }
   },
   "source": [
    "macro_foo = byron.f.macro('foo #{num:04x}', num=byron.f.integer_parameter(0, 2**16))\n",
    "macro_bar = byron.f.macro('bar {num:+0.3e}', num=byron.f.float_parameter(-1, 1))"
   ],
   "outputs": []
  },
  {
   "cell_type": "markdown",
   "id": "35a35f99-1073-4ff8-adad-43c4110d4127",
   "metadata": {},
   "source": [
    "Local references are inside the same macro bunch."
   ]
  },
  {
   "cell_type": "code",
   "execution_count": 3,
   "id": "572cd190-9b17-42cc-91ab-3bacb08a34d9",
   "metadata": {
    "ExecuteTime": {
     "end_time": "2023-09-08T12:45:18.791405Z",
     "start_time": "2023-09-08T12:45:18.787871Z"
    }
   },
   "source": [
    "local_ref = byron.f.local_reference(backward=True, loop=False, forward=True)\n",
    "local_ref"
   ],
   "outputs": []
  },
  {
   "cell_type": "code",
   "execution_count": 4,
   "id": "b3f5a0fa-a157-4af3-a2f6-14d63924edc8",
   "metadata": {
    "ExecuteTime": {
     "end_time": "2023-09-08T12:45:18.796372Z",
     "start_time": "2023-09-08T12:45:18.791460Z"
    }
   },
   "source": [
    "macro_jmp = byron.f.macro('jmp {target}', target=local_ref)\n",
    "bunch = byron.f.bunch([macro_foo, macro_bar, macro_jmp], size=10)"
   ],
   "outputs": []
  },
  {
   "cell_type": "code",
   "execution_count": 5,
   "id": "a3cfab62-dd8d-49e0-a591-9b4a00cf312a",
   "metadata": {
    "ExecuteTime": {
     "end_time": "2023-09-08T12:45:19.324841Z",
     "start_time": "2023-09-08T12:45:18.802589Z"
    }
   },
   "source": [
    "byron.f.as_text(bunch)\n",
    "byron.f.as_forest(bunch)\n",
    "byron.f.as_lgp(bunch)"
   ],
   "outputs": []
  },
  {
   "cell_type": "markdown",
   "id": "6e710bf3-7633-481b-9ae7-122eef90940c",
   "metadata": {},
   "source": [
    "## Label format\n",
    "\n",
    "By default, if a node is the target of a reference, the `_label` is printed pefore it. The default is `{_node}:\\n`, but it may be tweaked in different ways."
   ]
  },
  {
   "cell_type": "code",
   "execution_count": 6,
   "id": "c55b8bdd-ecba-463d-8ad4-4624fd8a5e5b",
   "metadata": {
    "ExecuteTime": {
     "end_time": "2023-09-08T12:45:19.334480Z",
     "start_time": "2023-09-08T12:45:19.327900Z"
    }
   },
   "source": [
    "byron.f.as_text(byron.f.bunch([macro_foo, macro_bar, macro_jmp], size=5))"
   ],
   "outputs": []
  },
  {
   "cell_type": "code",
   "execution_count": 7,
   "id": "14dd6e13-c692-4fa8-b409-22123757152c",
   "metadata": {
    "ExecuteTime": {
     "end_time": "2023-09-08T12:45:19.339462Z",
     "start_time": "2023-09-08T12:45:19.334730Z"
    }
   },
   "source": [
    "byron.f.as_text(byron.f.bunch([macro_foo, macro_bar, macro_jmp], size=5, extra_parameters={'_label': '<<{_node}>> '}))"
   ],
   "outputs": []
  },
  {
   "cell_type": "markdown",
   "id": "dd459c0a-378c-467b-b479-90b35b3f1cfe",
   "metadata": {},
   "source": [
    "The extra parameters defined in a frame are valid for all successor frames in the syntactic tree"
   ]
  },
  {
   "cell_type": "code",
   "execution_count": 8,
   "id": "99aa7979-266c-4ed9-84cf-3004f1680b59",
   "metadata": {
    "ExecuteTime": {
     "end_time": "2023-09-08T12:45:19.652152Z",
     "start_time": "2023-09-08T12:45:19.349021Z"
    }
   },
   "source": [
    "loop = byron.f.macro('loop {me}', me=byron.f.local_reference(backward=False, forward=False))\n",
    "seq1 = byron.f.sequence([loop, loop, loop])\n",
    "seq2 = byron.f.sequence([seq1, seq1])\n",
    "custom = byron.f.sequence([seq2], extra_parameters={'_label': '<<<<{_node}>>>:\\n'})\n",
    "seq3 = byron.f.sequence([seq2, '; =====================', custom, '; =====================', seq2])\n",
    "byron.f.as_text(seq3)\n",
    "byron.f.as_forest(seq3)"
   ],
   "outputs": []
  },
  {
   "cell_type": "code",
   "execution_count": 8,
   "id": "d8f742fc-a387-4c2c-abdf-642f35e85502",
   "metadata": {
    "ExecuteTime": {
     "end_time": "2023-09-08T12:45:19.655925Z",
     "start_time": "2023-09-08T12:45:19.652272Z"
    }
   },
   "source": [],
   "outputs": []
  }
 ],
 "metadata": {
  "kernelspec": {
   "display_name": "Python 3 (ipykernel)",
   "language": "python",
   "name": "python3"
  },
  "language_info": {
   "codemirror_mode": {
    "name": "ipython",
    "version": 3
   },
   "file_extension": ".py",
   "mimetype": "text/x-python",
   "name": "python",
   "nbconvert_exporter": "python",
   "pygments_lexer": "ipython3",
   "version": "3.11.4"
  }
 },
 "nbformat": 4,
 "nbformat_minor": 5
}
