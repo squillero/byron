{
 "cells": [
  {
   "cell_type": "markdown",
   "id": "257e30e7-d722-4672-9ac9-8fe769cfcf2b",
   "metadata": {},
   "source": [
    "This notebook is part of [**Byron v0.8**](https://pypi.org/project/byron/)  \n",
    "Copyright 2023-24 Giovanni Squillero and Alberto Tonda  \n",
    "SPDX-License-Identifier: [Apache-2.0](https://opensource.org/license/apache-2-0/) "
   ]
  },
  {
   "cell_type": "markdown",
   "id": "0d0bb326-f4dd-4bd0-908d-262beb944b7b",
   "metadata": {},
   "source": [
    "# Macros & Parameters"
   ]
  },
  {
   "cell_type": "code",
   "id": "a011ff81-bfd5-48be-a8f4-df8051ffbb6e",
   "metadata": {
    "ExecuteTime": {
     "end_time": "2024-08-09T08:20:29.343406Z",
     "start_time": "2024-08-09T08:20:28.006664Z"
    }
   },
   "source": [
    "try:\n",
    "    import byron\n",
    "except ModuleNotFoundError:\n",
    "    !pip install -U byron\n",
    "    import byron"
   ],
   "outputs": [
    {
     "name": "stderr",
     "output_type": "stream",
     "text": [
      "/var/folders/31/dkl97hks2c14b663vl55pt440000gn/T/ipykernel_1948/288499090.py:2: ByronPerformanceWarning: \n",
      "  Paranoia checks are enabled in this notebook: performances can be significantly impaired\n",
      "  [see https://cad-polito-it.github.io/byron/paranoia for details]\n",
      "  import byron\n"
     ]
    }
   ],
   "execution_count": 1
  },
  {
   "cell_type": "markdown",
   "id": "6b0a3e5c-480b-42e3-a0a3-5e3a9920f616",
   "metadata": {},
   "source": [
    "## Parameters"
   ]
  },
  {
   "metadata": {},
   "cell_type": "markdown",
   "source": "Everything for the definition of the constraints (the old \"instruction library\") is under the namespace `byron.framework` (lazy fingers can use `byron.f`)",
   "id": "59a82ef9-dda8-4838-9ea7-88323c7244d1"
  },
  {
   "metadata": {
    "ExecuteTime": {
     "end_time": "2024-08-09T08:20:29.347446Z",
     "start_time": "2024-08-09T08:20:29.344393Z"
    }
   },
   "cell_type": "code",
   "source": [
    "import math\n",
    "\n",
    "byte = byron.f.integer_parameter(0, 2 ** 8)\n",
    "almost_pi = byron.f.float_parameter(21 * math.sin(math.pi / 21), 42 * math.tan(math.pi / 42))\n",
    "register = byron.f.choice_parameter(['ax', 'bx', 'cx', 'dx'])\n",
    "bitmask = byron.f.array_parameter(\"01-\", 32)"
   ],
   "id": "15e5f3df-f352-431e-950a-443b44b41ea8",
   "outputs": [],
   "execution_count": 2
  },
  {
   "cell_type": "markdown",
   "id": "c3745bfe-5ed2-426e-b4be-8580ece0f39f",
   "metadata": {},
   "source": [
    "Parameters are *types* (classes), that is, all the above functions are technically *factories*. "
   ]
  },
  {
   "cell_type": "code",
   "id": "ffa85e6a-9517-4028-9f1e-cff8a3e33e73",
   "metadata": {
    "ExecuteTime": {
     "end_time": "2024-08-09T08:20:29.352160Z",
     "start_time": "2024-08-09T08:20:29.348434Z"
    }
   },
   "source": [
    "byte"
   ],
   "outputs": [
    {
     "data": {
      "text/plain": [
       "Int[8bit]"
      ]
     },
     "execution_count": 3,
     "metadata": {},
     "output_type": "execute_result"
    }
   ],
   "execution_count": 3
  },
  {
   "cell_type": "markdown",
   "id": "7f62203a-98ab-4cfd-beee-f47ed568f9d2",
   "metadata": {},
   "source": [
    "Parameters are used by Byron to create objects (*instances*). The initial (non initialized) value of these objects is always `None`; parameter instances are initialized with the first mutation and then, possibly, mutated again.\n",
    "\n",
    "**Notez bien:** Users do not need to use *parameters* directly. "
   ]
  },
  {
   "cell_type": "code",
   "id": "8be62203-0b00-4369-b061-96cdc93c40ca",
   "metadata": {
    "ExecuteTime": {
     "end_time": "2024-08-09T08:20:29.357701Z",
     "start_time": "2024-08-09T08:20:29.354021Z"
    }
   },
   "source": [
    "for param in [byte, almost_pi, register, bitmask]:\n",
    "    obj = param()\n",
    "    initial_value = obj.value\n",
    "    obj.mutate()\n",
    "    value = obj.value\n",
    "    print(f\"{obj!r} :: {initial_value!r} -> {value!r}\")"
   ],
   "outputs": [
    {
     "name": "stdout",
     "output_type": "stream",
     "text": [
      "<byron.parameter.Int[8bit] at 0x112895dc0> :: None -> 57\n",
      "<byron.parameter.Float[3.1298875896996634–3.1474648808016528) at 0x112895af0> :: None -> 3.130327211024893\n",
      "<byron.parameter.Choice[ax┊bx┊cx┊dx] at 0x1122b3680> :: None -> 'cx'\n",
      "<byron.parameter.Array[-01ｘ32] at 0x112895af0> :: None -> '---1-111-10-----11-1-11110-010--'\n"
     ]
    }
   ],
   "execution_count": 4
  },
  {
   "cell_type": "markdown",
   "id": "bfff4609-522c-42eb-8edd-595f4b186804",
   "metadata": {},
   "source": [
    "Instances of `byron.parameter` can be printed using f-string [syntax](https://docs.python.org/3/reference/lexical_analysis.html#f-strings)"
   ]
  },
  {
   "cell_type": "code",
   "id": "6c702e3e-5754-4a26-8ce5-77141e41d431",
   "metadata": {
    "ExecuteTime": {
     "end_time": "2024-08-09T08:20:29.362699Z",
     "start_time": "2024-08-09T08:20:29.359452Z"
    }
   },
   "source": [
    "num = byte()\n",
    "num.mutate()\n",
    "print(f\"Default: {num}\\nRepr: {num!r}\\nBinary (16bit): {num:016b}\\nOctal: {num:o}\\n#Hex: {num:#x}\")"
   ],
   "outputs": [
    {
     "name": "stdout",
     "output_type": "stream",
     "text": [
      "Default: 216\n",
      "Repr: <byron.parameter.Int[8bit] at 0x1126f50d0>\n",
      "Binary (16bit): 0000000011011000\n",
      "Octal: 330\n",
      "#Hex: 0xd8\n"
     ]
    }
   ],
   "execution_count": 5
  },
  {
   "cell_type": "markdown",
   "source": [
    "The type of a parameter and some sample values may be visualized using *as_text*"
   ],
   "metadata": {
    "collapsed": false
   },
   "id": "ad8a17b40dccd813"
  },
  {
   "cell_type": "code",
   "source": [
    "byron.f.as_text(almost_pi)"
   ],
   "metadata": {
    "collapsed": false,
    "ExecuteTime": {
     "end_time": "2024-08-09T08:20:29.367433Z",
     "start_time": "2024-08-09T08:20:29.363668Z"
    }
   },
   "id": "fb6de12f85b532a2",
   "outputs": [
    {
     "name": "stdout",
     "output_type": "stream",
     "text": [
      "Float[3.1298875896996634–3.1474648808016528)\n",
      "• 3.1411269806745707\n",
      "• 3.130327211024893\n",
      "• 3.134721860090219\n",
      "• 3.133811029821195\n",
      "• 3.1428327586192597\n",
      "• 3.141782133578663\n",
      "• 3.1455696896764587\n",
      "• 3.1314157388688577\n",
      "\n",
      "\n"
     ]
    }
   ],
   "execution_count": 6
  },
  {
   "cell_type": "markdown",
   "id": "580600c5-18a1-4d92-aa80-7b785d5e2bd4",
   "metadata": {},
   "source": [
    "## Aliases (shared parameters) \n",
    "\n",
    "Parameters are classes (types), thus objects created are independent. "
   ]
  },
  {
   "cell_type": "code",
   "id": "009de2ec-dc0d-46cc-b6b2-872942462a7a",
   "metadata": {
    "ExecuteTime": {
     "end_time": "2024-08-09T08:20:29.370838Z",
     "start_time": "2024-08-09T08:20:29.367942Z"
    }
   },
   "source": [
    "parameter = byron.f.integer_parameter(0, 10_000)\n",
    "\n",
    "var1 = parameter()\n",
    "var2 = parameter()\n",
    "var3 = parameter()\n",
    "print(f\"var1: {var1} // var2: {var2} // var3: {var3}  --  Initial\")\n",
    "var1.mutate()\n",
    "print(f\"var1: {var1} // var2: {var2} // var3: {var3}  --  After mutating var1\")\n",
    "var2.mutate()\n",
    "print(f\"var1: {var1} // var2: {var2} // var3: {var3}  --  After mutating var2\")\n",
    "var3.mutate()\n",
    "print(f\"var1: {var1} // var2: {var2} // var3: {var3}  --  After mutating var3\")"
   ],
   "outputs": [
    {
     "name": "stdout",
     "output_type": "stream",
     "text": [
      "var1: None // var2: None // var3: None  --  Initial\n",
      "var1: 5574 // var2: None // var3: None  --  After mutating var1\n",
      "var1: 5574 // var2: 4552 // var3: None  --  After mutating var2\n",
      "var1: 5574 // var2: 4552 // var3: 2547  --  After mutating var3\n"
     ]
    }
   ],
   "execution_count": 7
  },
  {
   "cell_type": "markdown",
   "id": "36b139fd-6b86-4dea-ab17-29ab820211e9",
   "metadata": {},
   "source": [
    "However, it may be necessary to have all instances of a specific parameter sharing the very same data. Parameters defined by a `make_shared_parameter` behave like *aliases*: they always have the same value, changes (e.g., `mutate()`) only affect the *first* instance."
   ]
  },
  {
   "cell_type": "code",
   "id": "8a702b11-a01a-4874-bf73-da3b85cd12ae",
   "metadata": {
    "ExecuteTime": {
     "end_time": "2024-08-09T08:20:29.375789Z",
     "start_time": "2024-08-09T08:20:29.371805Z"
    }
   },
   "source": [
    "shared_parameter1 = byron.f.make_shared_parameter(byron.f.integer_parameter(0, 10_000))\n",
    "shared_parameter2 = byron.f.make_shared_parameter(byron.f.integer_parameter(0, 10_000))\n",
    "\n",
    "var1 = shared_parameter1()\n",
    "var2 = shared_parameter1()\n",
    "var3 = shared_parameter2()\n",
    "print(f\"var1: {var1} // var2: {var2} // var3: {var3}  --  Initial\")\n",
    "var1.mutate()\n",
    "print(f\"var1: {var1} // var2: {var2} // var3: {var3}  --  After mutating var1\")\n",
    "var2.mutate()\n",
    "print(f\"var1: {var1} // var2: {var2} // var3: {var3}  --  After mutating var2\")\n",
    "var3.mutate()\n",
    "print(f\"var1: {var1} // var2: {var2} // var3: {var3}  --  After mutating var3\")"
   ],
   "outputs": [
    {
     "name": "stdout",
     "output_type": "stream",
     "text": [
      "var1: None // var2: None // var3: None  --  Initial\n",
      "var1: 3527 // var2: 3527 // var3: None  --  After mutating var1\n",
      "var1: 3527 // var2: 3527 // var3: None  --  After mutating var2\n",
      "var1: 3527 // var2: 3527 // var3: 5514  --  After mutating var3\n"
     ]
    }
   ],
   "execution_count": 8
  },
  {
   "cell_type": "markdown",
   "id": "73fad1e3-2e44-479c-9222-140d061f3ebc",
   "metadata": {},
   "source": [
    "## Notes"
   ]
  },
  {
   "cell_type": "markdown",
   "id": "b9d8fb63-8a56-4f21-a111-df64ee46c024",
   "metadata": {},
   "source": [
    "### Beautiful and Meaningful names"
   ]
  },
  {
   "cell_type": "code",
   "id": "a48cc3ad-0b05-4ace-a48f-5ad7abe2cadc",
   "metadata": {
    "ExecuteTime": {
     "end_time": "2024-08-09T08:20:29.379097Z",
     "start_time": "2024-08-09T08:20:29.376468Z"
    }
   },
   "source": [
    "p1 = byron.f.integer_parameter(0, 100)\n",
    "p2 = byron.f.integer_parameter(0, 256)\n",
    "p3 = byron.f.choice_parameter(\"BAGFECD\")\n",
    "\n",
    "print(f\"{p1!r} / {p1()!r}\")\n",
    "print(f\"{p2!r} / {p2()!r}\")\n",
    "print(f\"{p3!r} / {p3()!r}\")"
   ],
   "outputs": [
    {
     "name": "stdout",
     "output_type": "stream",
     "text": [
      "Int[0..99] / <byron.parameter.Int[0..99] at 0x1126cadb0>\n",
      "Int[8bit] / <byron.parameter.Int[8bit] at 0x1126cb290>\n",
      "Choice[A┊B┊C┊D┊E┊F┊G] / <byron.parameter.Choice[A┊B┊C┊D┊E┊F┊G] at 0x1126cb290>\n"
     ]
    }
   ],
   "execution_count": 9
  },
  {
   "cell_type": "markdown",
   "id": "89c67c3d-1f37-4804-b428-34ad8dcf29e6",
   "metadata": {},
   "source": [
    "### Helpful warnings\n",
    "\n",
    "Friendly suggestions are shown if code is not optimized and logging level is `DEBUG` (the default in notebooks)"
   ]
  },
  {
   "cell_type": "code",
   "id": "530eec70-c01c-4081-b3ac-b18f2606d584",
   "metadata": {
    "ExecuteTime": {
     "end_time": "2024-08-09T08:20:29.385041Z",
     "start_time": "2024-08-09T08:20:29.382180Z"
    }
   },
   "source": [
    "possible_error = byron.f.integer_parameter(1, 100)"
   ],
   "outputs": [
    {
     "name": "stderr",
     "output_type": "stream",
     "text": [
      "/var/folders/31/dkl97hks2c14b663vl55pt440000gn/T/ipykernel_1948/2880333942.py:1: ByronFriendlyWarning: \n",
      "  Parameter ranges are half-open: the maximum value is 99 (ie. a range of 99 possible values) — did you mean '(1, 101)'?\n",
      "  possible_error = byron.f.integer_parameter(1, 100)\n"
     ]
    }
   ],
   "execution_count": 10
  },
  {
   "cell_type": "code",
   "id": "9c23aed0-fe6a-4010-9bce-a616ddc5c82c",
   "metadata": {
    "ExecuteTime": {
     "end_time": "2024-08-09T08:20:29.393119Z",
     "start_time": "2024-08-09T08:20:29.386574Z"
    }
   },
   "source": [
    "possible_error = byron.f.choice_parameter(range(1_000))"
   ],
   "outputs": [
    {
     "name": "stderr",
     "output_type": "stream",
     "text": [
      "/var/folders/31/dkl97hks2c14b663vl55pt440000gn/T/ipykernel_1948/3768838695.py:1: ByronFriendlyWarning: \n",
      "  Choice parameters with many alternatives impair performances — why not using an integer parameter [0-1000)?\n",
      "  possible_error = byron.f.choice_parameter(range(1_000))\n"
     ]
    }
   ],
   "execution_count": 11
  },
  {
   "cell_type": "markdown",
   "id": "a2a3b907-90ef-4fa6-91e7-05d3bcf71413",
   "metadata": {},
   "source": [
    "### Cache\n",
    "\n",
    "Results are cached. Calling the same parameter factory with the same arguments yields the same parameter (the **very same** one, not an identical copy)"
   ]
  },
  {
   "cell_type": "code",
   "id": "cfa24064-6ff9-4714-a65a-48cced9600c5",
   "metadata": {
    "ExecuteTime": {
     "end_time": "2024-08-09T08:20:29.398279Z",
     "start_time": "2024-08-09T08:20:29.394617Z"
    }
   },
   "source": [
    "word1 = byron.f.integer_parameter(0, 2 ** 16)\n",
    "word2 = byron.f.integer_parameter(0, 65_536)\n",
    "\n",
    "word1 == word2, word1 is word2"
   ],
   "outputs": [
    {
     "data": {
      "text/plain": [
       "(True, True)"
      ]
     },
     "execution_count": 12,
     "metadata": {},
     "output_type": "execute_result"
    }
   ],
   "execution_count": 12
  },
  {
   "cell_type": "code",
   "id": "3e01388b-5500-4d96-9492-efe5b0a6b7cc",
   "metadata": {
    "ExecuteTime": {
     "end_time": "2024-08-09T08:20:29.402264Z",
     "start_time": "2024-08-09T08:20:29.399106Z"
    }
   },
   "source": [
    "choice1 = byron.f.choice_parameter(['Yes', 'No', 'Maybe'])\n",
    "choice2 = byron.f.choice_parameter(('Maybe', 'Yes', 'No'))\n",
    "\n",
    "choice1 == choice2, choice1 is choice2"
   ],
   "outputs": [
    {
     "data": {
      "text/plain": [
       "(True, True)"
      ]
     },
     "execution_count": 13,
     "metadata": {},
     "output_type": "execute_result"
    }
   ],
   "execution_count": 13
  },
  {
   "cell_type": "markdown",
   "id": "ac888231-8f4a-4168-a932-573407caa678",
   "metadata": {},
   "source": [
    "# Macros\n",
    "\n",
    "Macros represent multi-line parametric fragments. The text specifies placeholders using the [f-string syntax](https://peps.python.org/pep-0498/), then parameters are defined as key arguments. Macros, as a Frames, can be tested using `show`."
   ]
  },
  {
   "cell_type": "code",
   "id": "b42b1a2a-96b9-44c3-9529-302edbc700df",
   "metadata": {
    "ExecuteTime": {
     "end_time": "2024-08-09T08:20:29.405955Z",
     "start_time": "2024-08-09T08:20:29.402779Z"
    }
   },
   "source": [
    "macro = byron.f.macro(\n",
    "    \"{var} := {num}\", var=byron.f.choice_parameter(['foo', 'bar']), num=byron.f.integer_parameter(-100, 100)\n",
    ")\n",
    "byron.f.as_text(macro)"
   ],
   "outputs": [
    {
     "name": "stdout",
     "output_type": "stream",
     "text": [
      "bar := 63  ; 🖋 n2 ➜ Macro❬User#2❭\n",
      "\n"
     ]
    }
   ],
   "execution_count": 14
  },
  {
   "cell_type": "code",
   "id": "ddefbeb1-34a4-4a80-9a3e-221cf27c8b8c",
   "metadata": {
    "ExecuteTime": {
     "end_time": "2024-08-09T08:20:29.409285Z",
     "start_time": "2024-08-09T08:20:29.406491Z"
    }
   },
   "source": [
    "variable = byron.f.choice_parameter(['foo', 'bar'])\n",
    "integer = byron.f.integer_parameter(-100, 100)\n",
    "macro = byron.f.macro(\"{var} := {num:#x} ; ie. set the variable '{var}' to {num}\", var=variable, num=integer)\n",
    "byron.f.as_text(macro)"
   ],
   "outputs": [
    {
     "name": "stdout",
     "output_type": "stream",
     "text": [
      "bar := 0x3f ; ie. set the variable 'bar' to 63  ; 🖋 n3 ➜ Macro❬User#3❭\n",
      "\n"
     ]
    }
   ],
   "execution_count": 15
  },
  {
   "cell_type": "markdown",
   "source": [
    "## Extra Parameters\n",
    "\n",
    "Macros can use extra parameters that are defined by Byron. The names of all extra parameters start with an underscore. \n",
    "\n",
    "The extra parameter `_node` is a lazy `NodeView` that provides information about the node the macro is in. Through the `_node` it is possible to access nearly all internal data structures."
   ],
   "metadata": {
    "collapsed": false
   },
   "id": "8bf832696a3aaed3"
  },
  {
   "cell_type": "code",
   "source": [
    "macro = byron.f.macro('{_node}\\n\\n{_node!r}\\n\\n{_node.fields}')\n",
    "byron.f.as_text(macro, node_info=False)"
   ],
   "metadata": {
    "collapsed": false,
    "ExecuteTime": {
     "end_time": "2024-08-09T08:20:29.412650Z",
     "start_time": "2024-08-09T08:20:29.409885Z"
    }
   },
   "id": "fefbabad6b0cc575",
   "outputs": [
    {
     "name": "stdout",
     "output_type": "stream",
     "text": [
      "n4\n",
      "\n",
      "NodeView(ref=NodeReference(graph=<networkx.classes.multidigraph.MultiDiGraph object at 0x112999f70>, node=n4))\n",
      "\n",
      "['children', 'fields', 'graph', 'make', 'node', 'node_attributes', 'node_type', 'out_degree', 'p', 'parent', 'path', 'path_string', 'ref', 'safe_dump', 'selement', 'tree', 'type_']\n",
      "\n"
     ]
    }
   ],
   "execution_count": 16
  },
  {
   "cell_type": "markdown",
   "source": [
    "the `p` field of the NodeView contains a `ValueBag` with macro parameters (if any). Please remember that *ValueBag*s are reasonably safe: missing items default to `None` (e.g., `value_bag.huitzilopochtli` would be `None` except for few users fan of Aztec culture)."
   ],
   "metadata": {
    "collapsed": false
   },
   "id": "b0eb9bcf0b486605"
  },
  {
   "cell_type": "code",
   "source": [
    "macro = byron.f.macro(\n",
    "    'x={x} y=\"{y}\" z={z}\\n\\n{_node.p}',\n",
    "    x=byron.f.integer_parameter(0, 2 ** 8),\n",
    "    y=byron.f.choice_parameter(\"abc\"),\n",
    "    z=byron.f.float_parameter(0, 1),\n",
    ")\n",
    "byron.f.as_text(macro, node_info=False)"
   ],
   "metadata": {
    "collapsed": false,
    "ExecuteTime": {
     "end_time": "2024-08-09T08:20:29.417074Z",
     "start_time": "2024-08-09T08:20:29.414165Z"
    }
   },
   "id": "628e279866d8c797",
   "outputs": [
    {
     "name": "stdout",
     "output_type": "stream",
     "text": [
      "x=57 y=\"a\" z=0.7415504997598329\n",
      "\n",
      "{{'x': 57, 'y': 'a', 'z': 0.7415504997598329}}\n",
      "\n"
     ]
    }
   ],
   "execution_count": 17
  },
  {
   "cell_type": "markdown",
   "source": [
    "Other extra paramet control how the individual is dumped into a string"
   ],
   "metadata": {
    "collapsed": false
   },
   "id": "4e35fc879b50cb"
  },
  {
   "cell_type": "code",
   "source": [
    "byron.DEFAULT_EXTRA_PARAMETERS"
   ],
   "metadata": {
    "collapsed": false,
    "ExecuteTime": {
     "end_time": "2024-08-09T08:20:29.420936Z",
     "start_time": "2024-08-09T08:20:29.417882Z"
    }
   },
   "id": "61730a662139dd",
   "outputs": [
    {
     "data": {
      "text/plain": [
       "{'_comment': ';',\n",
       " '_label': '{_node}:\\n',\n",
       " '_text_before_macro': '',\n",
       " '_text_after_macro': '\\n',\n",
       " '_text_before_frame': '',\n",
       " '_text_after_frame': '',\n",
       " '_text_before_node': '',\n",
       " '_text_after_node': ''}"
      ]
     },
     "execution_count": 18,
     "metadata": {},
     "output_type": "execute_result"
    }
   ],
   "execution_count": 18
  },
  {
   "cell_type": "code",
   "source": [
    "byron.f.set_global_parameter('_comment', '#')\n",
    "byron.f.as_text(byron.f.macro('Frank'))\n",
    "\n",
    "byron.f.as_text(byron.f.macro('Zappa', _comment='@'))"
   ],
   "metadata": {
    "collapsed": false,
    "ExecuteTime": {
     "end_time": "2024-08-09T08:20:29.425180Z",
     "start_time": "2024-08-09T08:20:29.421702Z"
    }
   },
   "id": "6071c76842c2e87d",
   "outputs": [
    {
     "name": "stdout",
     "output_type": "stream",
     "text": [
      "Frank  # 🖋 n6 ➜ Macro❬Text#2❭\n",
      "\n",
      "Zappa  @ 🖋 n7 ➜ Macro❬Text#3❭\n",
      "\n"
     ]
    }
   ],
   "execution_count": 19
  },
  {
   "cell_type": "markdown",
   "id": "b23831f0-56d5-42a1-a95b-9f9415223a09",
   "metadata": {},
   "source": [
    "# *as_text* (*as_lgp* and *as_forest*)"
   ]
  },
  {
   "cell_type": "code",
   "source": [
    "macro = byron.f.macro(\"{var} := {num}\", var=byron.f.choice_parameter(\"abcde\"), num=byron.f.integer_parameter(0, 1000))"
   ],
   "metadata": {
    "collapsed": false,
    "ExecuteTime": {
     "end_time": "2024-08-09T08:20:29.428772Z",
     "start_time": "2024-08-09T08:20:29.426140Z"
    }
   },
   "id": "4b65b39464f710a3",
   "outputs": [],
   "execution_count": 20
  },
  {
   "cell_type": "code",
   "id": "50685179-8ec4-432b-b098-6298d82e8564",
   "metadata": {
    "ExecuteTime": {
     "end_time": "2024-08-09T08:20:29.434739Z",
     "start_time": "2024-08-09T08:20:29.430391Z"
    }
   },
   "source": [
    "for _ in range(5):\n",
    "    byron.f.as_text(macro)"
   ],
   "outputs": [
    {
     "name": "stdout",
     "output_type": "stream",
     "text": [
      "a := 654  # 🖋 n8 ➜ Macro❬User#5❭\n",
      "\n",
      "a := 654  # 🖋 n9 ➜ Macro❬User#5❭\n",
      "\n",
      "a := 654  # 🖋 n10 ➜ Macro❬User#5❭\n",
      "\n",
      "a := 654  # 🖋 n11 ➜ Macro❬User#5❭\n",
      "\n",
      "a := 654  # 🖋 n12 ➜ Macro❬User#5❭\n",
      "\n"
     ]
    }
   ],
   "execution_count": 21
  },
  {
   "cell_type": "code",
   "id": "3a9e68e3-7a5a-4f92-a681-8131792b6ced",
   "metadata": {
    "ExecuteTime": {
     "end_time": "2024-08-09T08:20:29.441514Z",
     "start_time": "2024-08-09T08:20:29.436288Z"
    }
   },
   "source": [
    "for _ in range(5):\n",
    "    byron.f.as_text(macro, node_info=False, seed=2310)"
   ],
   "outputs": [
    {
     "name": "stdout",
     "output_type": "stream",
     "text": [
      "e := 309\n",
      "\n",
      "e := 309\n",
      "\n",
      "e := 309\n",
      "\n",
      "e := 309\n",
      "\n",
      "e := 309\n",
      "\n"
     ]
    }
   ],
   "execution_count": 22
  },
  {
   "cell_type": "code",
   "id": "1854a102-7183-4a8d-a717-237888153dbd",
   "metadata": {
    "ExecuteTime": {
     "end_time": "2024-08-09T08:20:29.446439Z",
     "start_time": "2024-08-09T08:20:29.442338Z"
    }
   },
   "source": [
    "for _ in range(5):\n",
    "    byron.f.as_text(macro, node_info=False, seed=None)"
   ],
   "outputs": [
    {
     "name": "stdout",
     "output_type": "stream",
     "text": [
      "d := 928\n",
      "\n",
      "e := 595\n",
      "\n",
      "a := 519\n",
      "\n",
      "e := 737\n",
      "\n",
      "e := 25\n",
      "\n"
     ]
    }
   ],
   "execution_count": 23
  },
  {
   "cell_type": "code",
   "source": [],
   "metadata": {
    "collapsed": false,
    "ExecuteTime": {
     "end_time": "2024-08-09T08:20:29.449279Z",
     "start_time": "2024-08-09T08:20:29.447361Z"
    }
   },
   "id": "60cf418ea13d5ee3",
   "outputs": [],
   "execution_count": 23
  }
 ],
 "metadata": {
  "kernelspec": {
   "display_name": "Python 3 (ipykernel)",
   "language": "python",
   "name": "python3"
  },
  "language_info": {
   "codemirror_mode": {
    "name": "ipython",
    "version": 3
   },
   "file_extension": ".py",
   "mimetype": "text/x-python",
   "name": "python",
   "nbconvert_exporter": "python",
   "pygments_lexer": "ipython3",
   "version": "3.11.4"
  }
 },
 "nbformat": 4,
 "nbformat_minor": 5
}
